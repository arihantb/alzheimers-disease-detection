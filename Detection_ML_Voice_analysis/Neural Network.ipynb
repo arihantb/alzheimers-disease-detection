{
 "cells": [
  {
   "cell_type": "code",
   "execution_count": 1,
   "metadata": {},
   "outputs": [
    {
     "name": "stderr",
     "output_type": "stream",
     "text": [
      "Using TensorFlow backend.\n"
     ]
    }
   ],
   "source": [
    "import tensorflow as tf\n",
    "import keras\n",
    "from sklearn.model_selection import train_test_split\n",
    "from sklearn.metrics import confusion_matrix \n",
    "from sklearn.utils import shuffle\n",
    "import pandas as pd"
   ]
  },
  {
   "cell_type": "code",
   "execution_count": 17,
   "metadata": {},
   "outputs": [],
   "source": [
    "import sklearn.metrics\n",
    "from sklearn.metrics import accuracy_score"
   ]
  },
  {
   "cell_type": "code",
   "execution_count": 2,
   "metadata": {},
   "outputs": [],
   "source": [
    "df=pd.read_excel(\"output_compiled.xlsx\")\n",
    "df=df.drop(\"Unnamed: 0\",axis=1)\n",
    "df=shuffle(df)\n",
    "df=df.dropna()"
   ]
  },
  {
   "cell_type": "code",
   "execution_count": 3,
   "metadata": {},
   "outputs": [],
   "source": [
    "properties = list(df.columns.values)\n",
    "properties.remove('alzheimer')\n",
    "X = df[properties]\n",
    "y = df['alzheimer']"
   ]
  },
  {
   "cell_type": "code",
   "execution_count": 4,
   "metadata": {},
   "outputs": [],
   "source": [
    "X_train, X_test, y_train, y_test = train_test_split(X, y, test_size=0.25, random_state=10)"
   ]
  },
  {
   "cell_type": "code",
   "execution_count": 5,
   "metadata": {},
   "outputs": [],
   "source": [
    "model = keras.Sequential([\n",
    "    keras.layers.Dense(9,input_shape=[6,]),\n",
    "    #keras.layers.Flatten(input_shape=[9,]),\n",
    "    keras.layers.Dense(16, activation=tf.nn.relu),\n",
    "    keras.layers.Dense(16, activation=tf.nn.relu),\n",
    "    keras.layers.Dense(1, activation=tf.nn.sigmoid),\n",
    "])"
   ]
  },
  {
   "cell_type": "code",
   "execution_count": 6,
   "metadata": {},
   "outputs": [],
   "source": [
    "model.compile(optimizer='adam',\n",
    "              loss='binary_crossentropy',\n",
    "              metrics=['accuracy'])"
   ]
  },
  {
   "cell_type": "code",
   "execution_count": 7,
   "metadata": {},
   "outputs": [
    {
     "name": "stdout",
     "output_type": "stream",
     "text": [
      "Epoch 1/50\n",
      "258/258 [==============================] - 0s 2ms/step - loss: 0.9004 - accuracy: 0.6977\n",
      "Epoch 2/50\n",
      "258/258 [==============================] - 0s 1ms/step - loss: 0.2417 - accuracy: 0.9225\n",
      "Epoch 3/50\n",
      "258/258 [==============================] - 0s 1ms/step - loss: 0.2327 - accuracy: 0.9264\n",
      "Epoch 4/50\n",
      "258/258 [==============================] - 0s 984us/step - loss: 0.2299 - accuracy: 0.9225\n",
      "Epoch 5/50\n",
      "258/258 [==============================] - 0s 1ms/step - loss: 0.2348 - accuracy: 0.9225\n",
      "Epoch 6/50\n",
      "258/258 [==============================] - 0s 1ms/step - loss: 0.2222 - accuracy: 0.9264\n",
      "Epoch 7/50\n",
      "258/258 [==============================] - 0s 945us/step - loss: 0.2381 - accuracy: 0.9031\n",
      "Epoch 8/50\n",
      "258/258 [==============================] - 0s 916us/step - loss: 0.2165 - accuracy: 0.9225\n",
      "Epoch 9/50\n",
      "258/258 [==============================] - 0s 929us/step - loss: 0.2187 - accuracy: 0.9225\n",
      "Epoch 10/50\n",
      "258/258 [==============================] - 0s 1ms/step - loss: 0.2256 - accuracy: 0.9186\n",
      "Epoch 11/50\n",
      "258/258 [==============================] - 0s 920us/step - loss: 0.2017 - accuracy: 0.9341\n",
      "Epoch 12/50\n",
      "258/258 [==============================] - 0s 951us/step - loss: 0.2080 - accuracy: 0.9109\n",
      "Epoch 13/50\n",
      "258/258 [==============================] - 0s 926us/step - loss: 0.2192 - accuracy: 0.9186\n",
      "Epoch 14/50\n",
      "258/258 [==============================] - 0s 990us/step - loss: 0.2182 - accuracy: 0.9186\n",
      "Epoch 15/50\n",
      "258/258 [==============================] - 0s 914us/step - loss: 0.2119 - accuracy: 0.9341\n",
      "Epoch 16/50\n",
      "258/258 [==============================] - 0s 932us/step - loss: 0.1929 - accuracy: 0.9147\n",
      "Epoch 17/50\n",
      "258/258 [==============================] - 0s 1ms/step - loss: 0.2027 - accuracy: 0.9341\n",
      "Epoch 18/50\n",
      "258/258 [==============================] - 0s 929us/step - loss: 0.2141 - accuracy: 0.9225\n",
      "Epoch 19/50\n",
      "258/258 [==============================] - 0s 982us/step - loss: 0.2041 - accuracy: 0.9225\n",
      "Epoch 20/50\n",
      "258/258 [==============================] - 0s 940us/step - loss: 0.1936 - accuracy: 0.9225\n",
      "Epoch 21/50\n",
      "258/258 [==============================] - 0s 924us/step - loss: 0.2089 - accuracy: 0.9302\n",
      "Epoch 22/50\n",
      "258/258 [==============================] - 0s 964us/step - loss: 0.1991 - accuracy: 0.9225\n",
      "Epoch 23/50\n",
      "258/258 [==============================] - 0s 984us/step - loss: 0.1949 - accuracy: 0.9341\n",
      "Epoch 24/50\n",
      "258/258 [==============================] - 0s 909us/step - loss: 0.1992 - accuracy: 0.9302\n",
      "Epoch 25/50\n",
      "258/258 [==============================] - 0s 904us/step - loss: 0.1839 - accuracy: 0.9302\n",
      "Epoch 26/50\n",
      "258/258 [==============================] - 0s 951us/step - loss: 0.1825 - accuracy: 0.9380\n",
      "Epoch 27/50\n",
      "258/258 [==============================] - 0s 1ms/step - loss: 0.1858 - accuracy: 0.9225\n",
      "Epoch 28/50\n",
      "258/258 [==============================] - 0s 1ms/step - loss: 0.1903 - accuracy: 0.9264\n",
      "Epoch 29/50\n",
      "258/258 [==============================] - 0s 991us/step - loss: 0.1777 - accuracy: 0.9302\n",
      "Epoch 30/50\n",
      "258/258 [==============================] - 0s 970us/step - loss: 0.1780 - accuracy: 0.9341\n",
      "Epoch 31/50\n",
      "258/258 [==============================] - 0s 1ms/step - loss: 0.1782 - accuracy: 0.9225\n",
      "Epoch 32/50\n",
      "258/258 [==============================] - 0s 1ms/step - loss: 0.1739 - accuracy: 0.9225\n",
      "Epoch 33/50\n",
      "258/258 [==============================] - 0s 1ms/step - loss: 0.1781 - accuracy: 0.9186\n",
      "Epoch 34/50\n",
      "258/258 [==============================] - 0s 1ms/step - loss: 0.1783 - accuracy: 0.9225\n",
      "Epoch 35/50\n",
      "258/258 [==============================] - 0s 968us/step - loss: 0.1702 - accuracy: 0.9341\n",
      "Epoch 36/50\n",
      "258/258 [==============================] - 0s 977us/step - loss: 0.1775 - accuracy: 0.9186\n",
      "Epoch 37/50\n",
      "258/258 [==============================] - 0s 1ms/step - loss: 0.1597 - accuracy: 0.9302\n",
      "Epoch 38/50\n",
      "258/258 [==============================] - 0s 1ms/step - loss: 0.1716 - accuracy: 0.9302: 0s - loss: 0.1977 - accuracy\n",
      "Epoch 39/50\n",
      "258/258 [==============================] - 0s 996us/step - loss: 0.1695 - accuracy: 0.9302\n",
      "Epoch 40/50\n",
      "258/258 [==============================] - 0s 945us/step - loss: 0.1672 - accuracy: 0.9341\n",
      "Epoch 41/50\n",
      "258/258 [==============================] - 0s 919us/step - loss: 0.1652 - accuracy: 0.9341\n",
      "Epoch 42/50\n",
      "258/258 [==============================] - 0s 1ms/step - loss: 0.1632 - accuracy: 0.9302\n",
      "Epoch 43/50\n",
      "258/258 [==============================] - 0s 1ms/step - loss: 0.1696 - accuracy: 0.9302\n",
      "Epoch 44/50\n",
      "258/258 [==============================] - 0s 958us/step - loss: 0.1668 - accuracy: 0.9380\n",
      "Epoch 45/50\n",
      "258/258 [==============================] - 0s 962us/step - loss: 0.1579 - accuracy: 0.9341\n",
      "Epoch 46/50\n",
      "258/258 [==============================] - 0s 1ms/step - loss: 0.1507 - accuracy: 0.9341\n",
      "Epoch 47/50\n",
      "258/258 [==============================] - 0s 1ms/step - loss: 0.1606 - accuracy: 0.9341\n",
      "Epoch 48/50\n",
      "258/258 [==============================] - 0s 934us/step - loss: 0.1493 - accuracy: 0.9341\n",
      "Epoch 49/50\n",
      "258/258 [==============================] - 0s 1ms/step - loss: 0.1596 - accuracy: 0.9380\n",
      "Epoch 50/50\n",
      "258/258 [==============================] - 0s 986us/step - loss: 0.1689 - accuracy: 0.9225\n",
      "87/87 [==============================] - 0s 217us/step\n",
      "Test accuracy: 0.8850574493408203\n"
     ]
    }
   ],
   "source": [
    "model.fit(X_train, y_train, epochs=50, batch_size=1)\n",
    "\n",
    "test_loss, test_acc = model.evaluate(X_test, y_test)\n",
    "print('Test accuracy:', test_acc)"
   ]
  },
  {
   "cell_type": "code",
   "execution_count": 14,
   "metadata": {},
   "outputs": [],
   "source": [
    "y_pred=model.predict(X_test)"
   ]
  },
  {
   "cell_type": "code",
   "execution_count": 19,
   "metadata": {},
   "outputs": [
    {
     "name": "stdout",
     "output_type": "stream",
     "text": [
      "Accuracy:0.885057\n",
      "Precision: 0.900000\n",
      "Recall: 0.743590\n",
      "F1 score: 0.852941\n"
     ]
    }
   ],
   "source": [
    "accuracy=accuracy_score(y_test,y_pred.round())\n",
    "print('Accuracy:%f'%accuracy)\n",
    "precision=sklearn.metrics.precision_score(y_test,y_pred.round())\n",
    "print('Precision: %f'%precision)\n",
    "recall=sklearn.metrics.recall_score(y_test,y_pred.round())\n",
    "print('Recall: %f'%recall)\n",
    "f1=sklearn.metrics.f1_score(y_test,y_pred.round())\n",
    "print('F1 score: %f'%f1)"
   ]
  },
  {
   "cell_type": "code",
   "execution_count": null,
   "metadata": {},
   "outputs": [],
   "source": []
  }
 ],
 "metadata": {
  "kernelspec": {
   "display_name": "Python 3",
   "language": "python",
   "name": "python3"
  },
  "language_info": {
   "codemirror_mode": {
    "name": "ipython",
    "version": 3
   },
   "file_extension": ".py",
   "mimetype": "text/x-python",
   "name": "python",
   "nbconvert_exporter": "python",
   "pygments_lexer": "ipython3",
   "version": "3.6.5"
  }
 },
 "nbformat": 4,
 "nbformat_minor": 4
}
