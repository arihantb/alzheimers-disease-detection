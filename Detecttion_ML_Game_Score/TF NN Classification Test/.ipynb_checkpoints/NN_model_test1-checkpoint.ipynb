{
 "cells": [
  {
   "cell_type": "code",
   "execution_count": 1,
   "metadata": {
    "collapsed": false
   },
   "outputs": [
    {
     "ename": "ModuleNotFoundError",
     "evalue": "No module named 'numpy.testing.decorators'",
     "output_type": "error",
     "traceback": [
      "\u001b[0;31m---------------------------------------------------------------------------\u001b[0m",
      "\u001b[0;31mModuleNotFoundError\u001b[0m                       Traceback (most recent call last)",
      "\u001b[0;32m<ipython-input-1-f1c87e2a17ca>\u001b[0m in \u001b[0;36m<module>\u001b[0;34m()\u001b[0m\n\u001b[0;32m----> 1\u001b[0;31m \u001b[1;32mimport\u001b[0m \u001b[0mpandas\u001b[0m \u001b[1;32mas\u001b[0m \u001b[0mpd\u001b[0m\u001b[1;33m\u001b[0m\u001b[0m\n\u001b[0m\u001b[1;32m      2\u001b[0m \u001b[1;32mimport\u001b[0m \u001b[0mtensorflow\u001b[0m \u001b[1;32mas\u001b[0m \u001b[0mtf\u001b[0m\u001b[1;33m\u001b[0m\u001b[0m\n\u001b[1;32m      3\u001b[0m \u001b[1;32mfrom\u001b[0m \u001b[0mtensorflow\u001b[0m \u001b[1;32mimport\u001b[0m \u001b[0mkeras\u001b[0m\u001b[1;33m\u001b[0m\u001b[0m\n\u001b[1;32m      4\u001b[0m \u001b[1;32mfrom\u001b[0m \u001b[0msklearn\u001b[0m\u001b[1;33m.\u001b[0m\u001b[0mmodel_selection\u001b[0m \u001b[1;32mimport\u001b[0m \u001b[0mtrain_test_split\u001b[0m\u001b[1;33m\u001b[0m\u001b[0m\n\u001b[1;32m      5\u001b[0m \u001b[1;32mimport\u001b[0m \u001b[0mnumpy\u001b[0m \u001b[1;32mas\u001b[0m \u001b[0mnp\u001b[0m\u001b[1;33m\u001b[0m\u001b[0m\n",
      "\u001b[0;32mF:\\Softwares\\Anaconda\\lib\\site-packages\\pandas\\__init__.py\u001b[0m in \u001b[0;36m<module>\u001b[0;34m()\u001b[0m\n\u001b[1;32m     54\u001b[0m \u001b[1;33m\u001b[0m\u001b[0m\n\u001b[1;32m     55\u001b[0m \u001b[1;31m# define the testing framework\u001b[0m\u001b[1;33m\u001b[0m\u001b[1;33m\u001b[0m\u001b[0m\n\u001b[0;32m---> 56\u001b[0;31m \u001b[1;32mimport\u001b[0m \u001b[0mpandas\u001b[0m\u001b[1;33m.\u001b[0m\u001b[0mutil\u001b[0m\u001b[1;33m.\u001b[0m\u001b[0mtesting\u001b[0m\u001b[1;33m\u001b[0m\u001b[0m\n\u001b[0m\u001b[1;32m     57\u001b[0m \u001b[1;32mfrom\u001b[0m \u001b[0mpandas\u001b[0m\u001b[1;33m.\u001b[0m\u001b[0mutil\u001b[0m\u001b[1;33m.\u001b[0m\u001b[0mnosetester\u001b[0m \u001b[1;32mimport\u001b[0m \u001b[0mNoseTester\u001b[0m\u001b[1;33m\u001b[0m\u001b[0m\n\u001b[1;32m     58\u001b[0m \u001b[0mtest\u001b[0m \u001b[1;33m=\u001b[0m \u001b[0mNoseTester\u001b[0m\u001b[1;33m(\u001b[0m\u001b[1;33m)\u001b[0m\u001b[1;33m.\u001b[0m\u001b[0mtest\u001b[0m\u001b[1;33m\u001b[0m\u001b[0m\n",
      "\u001b[0;32mF:\\Softwares\\Anaconda\\lib\\site-packages\\pandas\\util\\testing.py\u001b[0m in \u001b[0;36m<module>\u001b[0;34m()\u001b[0m\n\u001b[1;32m     20\u001b[0m \u001b[1;33m\u001b[0m\u001b[0m\n\u001b[1;32m     21\u001b[0m \u001b[1;32mfrom\u001b[0m \u001b[0mnumpy\u001b[0m\u001b[1;33m.\u001b[0m\u001b[0mrandom\u001b[0m \u001b[1;32mimport\u001b[0m \u001b[0mrandn\u001b[0m\u001b[1;33m,\u001b[0m \u001b[0mrand\u001b[0m\u001b[1;33m\u001b[0m\u001b[0m\n\u001b[0;32m---> 22\u001b[0;31m \u001b[1;32mfrom\u001b[0m \u001b[0mnumpy\u001b[0m\u001b[1;33m.\u001b[0m\u001b[0mtesting\u001b[0m\u001b[1;33m.\u001b[0m\u001b[0mdecorators\u001b[0m \u001b[1;32mimport\u001b[0m \u001b[0mslow\u001b[0m     \u001b[1;31m# noqa\u001b[0m\u001b[1;33m\u001b[0m\u001b[0m\n\u001b[0m\u001b[1;32m     23\u001b[0m \u001b[1;32mimport\u001b[0m \u001b[0mnumpy\u001b[0m \u001b[1;32mas\u001b[0m \u001b[0mnp\u001b[0m\u001b[1;33m\u001b[0m\u001b[0m\n\u001b[1;32m     24\u001b[0m \u001b[1;33m\u001b[0m\u001b[0m\n",
      "\u001b[0;31mModuleNotFoundError\u001b[0m: No module named 'numpy.testing.decorators'"
     ]
    }
   ],
   "source": [
    "import pandas as pd\n",
    "import tensorflow as tf\n",
    "from tensorflow import keras\n",
    "from sklearn.model_selection import train_test_split\n",
    "import numpy as np"
   ]
  },
  {
   "cell_type": "code",
   "execution_count": 21,
   "metadata": {
    "collapsed": true
   },
   "outputs": [],
   "source": [
    "df=pd.read_csv('NN_dataset.csv')\n",
    "properties = list(df.columns.values)\n",
    "properties.remove('alzheimer')\n",
    "X = df[properties]\n",
    "y = df['alzheimer']"
   ]
  },
  {
   "cell_type": "code",
   "execution_count": 22,
   "metadata": {
    "collapsed": true
   },
   "outputs": [],
   "source": [
    "X_train, X_test, y_train, y_test = train_test_split(X, y, test_size=0.2, random_state=10)"
   ]
  },
  {
   "cell_type": "code",
   "execution_count": 23,
   "metadata": {
    "collapsed": true
   },
   "outputs": [],
   "source": [
    "model = keras.Sequential([\n",
    "    keras.layers.Flatten(input_shape=(9,)),\n",
    "    keras.layers.Dense(16, activation=tf.nn.relu),\n",
    "    keras.layers.Dense(16, activation=tf.nn.relu),\n",
    "    keras.layers.Dense(1, activation=tf.nn.sigmoid),\n",
    "])"
   ]
  },
  {
   "cell_type": "code",
   "execution_count": 24,
   "metadata": {
    "collapsed": true
   },
   "outputs": [],
   "source": [
    "model.compile(optimizer='adam',\n",
    "              loss='binary_crossentropy',\n",
    "              metrics=['accuracy'])"
   ]
  },
  {
   "cell_type": "code",
   "execution_count": 25,
   "metadata": {
    "collapsed": false
   },
   "outputs": [
    {
     "name": "stdout",
     "output_type": "stream",
     "text": [
      "Train on 63 samples\n",
      "Epoch 1/50\n",
      "63/63 [==============================] - 1s 11ms/sample - loss: 2.8312 - acc: 0.6349\n",
      "Epoch 2/50\n",
      "63/63 [==============================] - 0s 1ms/sample - loss: 1.1017 - acc: 0.7937\n",
      "Epoch 3/50\n",
      "63/63 [==============================] - 0s 1ms/sample - loss: 0.4316 - acc: 0.8571\n",
      "Epoch 4/50\n",
      "63/63 [==============================] - 0s 1ms/sample - loss: 0.4137 - acc: 0.9048\n",
      "Epoch 5/50\n",
      "63/63 [==============================] - 0s 1ms/sample - loss: 0.4238 - acc: 0.8889\n",
      "Epoch 6/50\n",
      "63/63 [==============================] - 0s 1ms/sample - loss: 0.3249 - acc: 0.9206\n",
      "Epoch 7/50\n",
      "63/63 [==============================] - 0s 1ms/sample - loss: 0.1072 - acc: 0.9683\n",
      "Epoch 8/50\n",
      "63/63 [==============================] - 0s 1ms/sample - loss: 0.0284 - acc: 0.9841\n",
      "Epoch 9/50\n",
      "63/63 [==============================] - 0s 1ms/sample - loss: 0.0449 - acc: 0.9683\n",
      "Epoch 10/50\n",
      "63/63 [==============================] - 0s 1ms/sample - loss: 0.0230 - acc: 0.9841\n",
      "Epoch 11/50\n",
      "63/63 [==============================] - 0s 1ms/sample - loss: 0.0257 - acc: 0.9841\n",
      "Epoch 12/50\n",
      "63/63 [==============================] - 0s 1ms/sample - loss: 0.0139 - acc: 1.0000\n",
      "Epoch 13/50\n",
      "63/63 [==============================] - 0s 1ms/sample - loss: 0.0051 - acc: 1.0000\n",
      "Epoch 14/50\n",
      "63/63 [==============================] - 0s 960us/sample - loss: 0.0049 - acc: 1.0000\n",
      "Epoch 15/50\n",
      "63/63 [==============================] - 0s 1ms/sample - loss: 0.0059 - acc: 1.0000\n",
      "Epoch 16/50\n",
      "63/63 [==============================] - 0s 1ms/sample - loss: 0.0041 - acc: 1.0000\n",
      "Epoch 17/50\n",
      "63/63 [==============================] - 0s 2ms/sample - loss: 0.0034 - acc: 1.0000\n",
      "Epoch 18/50\n",
      "63/63 [==============================] - 0s 1ms/sample - loss: 0.0032 - acc: 1.0000\n",
      "Epoch 19/50\n",
      "63/63 [==============================] - 0s 1ms/sample - loss: 0.0028 - acc: 1.0000\n",
      "Epoch 20/50\n",
      "63/63 [==============================] - 0s 1ms/sample - loss: 0.0034 - acc: 1.0000\n",
      "Epoch 21/50\n",
      "63/63 [==============================] - 0s 1ms/sample - loss: 0.0029 - acc: 1.0000\n",
      "Epoch 22/50\n",
      "63/63 [==============================] - 0s 1ms/sample - loss: 0.0023 - acc: 1.0000\n",
      "Epoch 23/50\n",
      "63/63 [==============================] - 0s 1ms/sample - loss: 0.0023 - acc: 1.0000\n",
      "Epoch 24/50\n",
      "63/63 [==============================] - 0s 1ms/sample - loss: 0.0021 - acc: 1.0000\n",
      "Epoch 25/50\n",
      "63/63 [==============================] - 0s 1ms/sample - loss: 0.0020 - acc: 1.0000\n",
      "Epoch 26/50\n",
      "63/63 [==============================] - 0s 1ms/sample - loss: 0.0021 - acc: 1.0000\n",
      "Epoch 27/50\n",
      "63/63 [==============================] - 0s 1ms/sample - loss: 0.0021 - acc: 1.0000\n",
      "Epoch 28/50\n",
      "63/63 [==============================] - 0s 961us/sample - loss: 0.0016 - acc: 1.0000\n",
      "Epoch 29/50\n",
      "63/63 [==============================] - 0s 1ms/sample - loss: 0.0016 - acc: 1.0000\n",
      "Epoch 30/50\n",
      "63/63 [==============================] - 0s 957us/sample - loss: 0.0015 - acc: 1.0000\n",
      "Epoch 31/50\n",
      "63/63 [==============================] - 0s 1ms/sample - loss: 0.0016 - acc: 1.0000\n",
      "Epoch 32/50\n",
      "63/63 [==============================] - 0s 1ms/sample - loss: 0.0014 - acc: 1.0000\n",
      "Epoch 33/50\n",
      "63/63 [==============================] - 0s 1ms/sample - loss: 0.0013 - acc: 1.0000\n",
      "Epoch 34/50\n",
      "63/63 [==============================] - 0s 2ms/sample - loss: 0.0013 - acc: 1.0000\n",
      "Epoch 35/50\n",
      "63/63 [==============================] - 0s 1ms/sample - loss: 0.0012 - acc: 1.0000\n",
      "Epoch 36/50\n",
      "63/63 [==============================] - 0s 958us/sample - loss: 0.0012 - acc: 1.0000\n",
      "Epoch 37/50\n",
      "63/63 [==============================] - 0s 961us/sample - loss: 0.0012 - acc: 1.0000\n",
      "Epoch 38/50\n",
      "63/63 [==============================] - 0s 976us/sample - loss: 9.6146e-04 - acc: 1.0000\n",
      "Epoch 39/50\n",
      "63/63 [==============================] - 0s 1ms/sample - loss: 0.0010 - acc: 1.0000\n",
      "Epoch 40/50\n",
      "63/63 [==============================] - 0s 984us/sample - loss: 0.0011 - acc: 1.0000\n",
      "Epoch 41/50\n",
      "63/63 [==============================] - 0s 1ms/sample - loss: 0.0011 - acc: 1.0000\n",
      "Epoch 42/50\n",
      "63/63 [==============================] - 0s 2ms/sample - loss: 0.0010 - acc: 1.0000\n",
      "Epoch 43/50\n",
      "63/63 [==============================] - 0s 1ms/sample - loss: 9.3944e-04 - acc: 1.0000\n",
      "Epoch 44/50\n",
      "63/63 [==============================] - 0s 983us/sample - loss: 9.8040e-04 - acc: 1.0000\n",
      "Epoch 45/50\n",
      "63/63 [==============================] - 0s 1ms/sample - loss: 7.7812e-04 - acc: 1.0000\n",
      "Epoch 46/50\n",
      "63/63 [==============================] - 0s 1ms/sample - loss: 7.7188e-04 - acc: 1.0000\n",
      "Epoch 47/50\n",
      "63/63 [==============================] - 0s 1ms/sample - loss: 7.2767e-04 - acc: 1.0000\n",
      "Epoch 48/50\n",
      "63/63 [==============================] - 0s 2ms/sample - loss: 6.7449e-04 - acc: 1.0000\n",
      "Epoch 49/50\n",
      "63/63 [==============================] - 0s 1ms/sample - loss: 6.8979e-04 - acc: 1.0000\n",
      "Epoch 50/50\n",
      "63/63 [==============================] - 0s 1ms/sample - loss: 6.4491e-04 - acc: 1.0000\n",
      "16/16 [==============================] - 0s 5ms/sample - loss: 0.2799 - acc: 0.9375\n",
      "Test accuracy: 0.9375\n"
     ]
    }
   ],
   "source": [
    "model.fit(X_train, y_train, epochs=50, batch_size=1)\n",
    "\n",
    "test_loss, test_acc = model.evaluate(X_test, y_test)\n",
    "print('Test accuracy:', test_acc)"
   ]
  },
  {
   "cell_type": "code",
   "execution_count": 47,
   "metadata": {
    "collapsed": false
   },
   "outputs": [
    {
     "data": {
      "text/html": [
       "<div>\n",
       "<style scoped>\n",
       "    .dataframe tbody tr th:only-of-type {\n",
       "        vertical-align: middle;\n",
       "    }\n",
       "\n",
       "    .dataframe tbody tr th {\n",
       "        vertical-align: top;\n",
       "    }\n",
       "\n",
       "    .dataframe thead th {\n",
       "        text-align: right;\n",
       "    }\n",
       "</style>\n",
       "<table border=\"1\" class=\"dataframe\">\n",
       "  <thead>\n",
       "    <tr style=\"text-align: right;\">\n",
       "      <th></th>\n",
       "      <th>speed</th>\n",
       "      <th>speed_time</th>\n",
       "      <th>memory</th>\n",
       "      <th>memory_time</th>\n",
       "      <th>calculation</th>\n",
       "      <th>calculation_time</th>\n",
       "      <th>attention</th>\n",
       "      <th>attention_time</th>\n",
       "      <th>path tracting time</th>\n",
       "    </tr>\n",
       "  </thead>\n",
       "  <tbody>\n",
       "    <tr>\n",
       "      <th>46</th>\n",
       "      <td>17</td>\n",
       "      <td>44</td>\n",
       "      <td>16</td>\n",
       "      <td>32</td>\n",
       "      <td>17</td>\n",
       "      <td>54</td>\n",
       "      <td>19</td>\n",
       "      <td>34</td>\n",
       "      <td>110</td>\n",
       "    </tr>\n",
       "  </tbody>\n",
       "</table>\n",
       "</div>"
      ],
      "text/plain": [
       "    speed  speed_time  memory  memory_time  calculation  calculation_time  \\\n",
       "46     17          44      16           32           17                54   \n",
       "\n",
       "    attention  attention_time  path tracting time  \n",
       "46         19              34                 110  "
      ]
     },
     "execution_count": 47,
     "metadata": {},
     "output_type": "execute_result"
    }
   ],
   "source": [
    "X_test[1:2]"
   ]
  },
  {
   "cell_type": "code",
   "execution_count": 49,
   "metadata": {
    "collapsed": true
   },
   "outputs": [],
   "source": [
    "a=model.predict(X_test[1:2])"
   ]
  },
  {
   "cell_type": "code",
   "execution_count": 50,
   "metadata": {
    "collapsed": false
   },
   "outputs": [
    {
     "name": "stdout",
     "output_type": "stream",
     "text": [
      "[[0.]]\n"
     ]
    }
   ],
   "source": [
    "print(a)"
   ]
  },
  {
   "cell_type": "code",
   "execution_count": null,
   "metadata": {
    "collapsed": true
   },
   "outputs": [],
   "source": []
  }
 ],
 "metadata": {
  "kernelspec": {
   "display_name": "Python 3",
   "language": "python",
   "name": "python3"
  }
 },
 "nbformat": 4,
 "nbformat_minor": 2
}
